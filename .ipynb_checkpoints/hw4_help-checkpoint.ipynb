{
 "cells": [
  {
   "cell_type": "code",
   "execution_count": null,
   "metadata": {},
   "outputs": [],
   "source": [
    "from glob import glob\n",
    "py_files = glob(\"*.py\")\n",
    "len(py_files) #all py files\n",
    "not_py_files = glob(\"*\") #all files\n",
    "len(not_py_files) - len(py_files) # all files - py files"
   ]
  },
  {
   "cell_type": "code",
   "execution_count": 3,
   "metadata": {},
   "outputs": [
    {
     "name": "stdout",
     "output_type": "stream",
     "text": [
      "#showing_you_intedent.py#\n",
      "./#showing_you_intedent.py#\n",
      "./.DS_Store\n",
      "./alice_in_wonderland.txt\n",
      "./breaking_scope_one.py\n",
      "./breaking_scope_two.py\n",
      "./class_five.ipynb\n",
      "./class_four.ipynb\n",
      "./class_one.ipynb\n",
      "./class_three.ipynb\n",
      "./class_two.ipynb\n",
      "./continuing_the_journey.md\n",
      "./correctly_spelled_alice_in_wonderland.txt\n",
      "./data.csv\n",
      "./enigma.py\n",
      "./find-second-maximum-number-in-a-list.py\n",
      "./get-pip.py\n",
      "./hw4_help.ipynb\n",
      "./lecture_supplemental.py\n",
      "./new_file.txt\n",
      "./py-introduction-to-sets.py\n",
      "./python-loops.py\n",
      "./python_if_else.py\n",
      "./python_if_else.py~\n",
      "./python_lists.py\n",
      "./README.md\n",
      "./research_and_analysis.py\n",
      "./spell_corrected_#showing_you_intedent.py#\n",
      "./test.docx\n",
      "./test.py~\n",
      "./testing_chins_theory.py\n",
      "./thing.py\n",
      "./thing.txt\n",
      "./write_a_function.py\n",
      "./.git\n",
      "/Users/erics/Documents/an_introduction_to_python/.git\n",
      "./.ipynb_checkpoints\n",
      "/Users/erics/Documents/an_introduction_to_python/.ipynb_checkpoints\n",
      "./__pycache__\n",
      "/Users/erics/Documents/an_introduction_to_python/__pycache__\n",
      "./hw2\n",
      "/Users/erics/Documents/an_introduction_to_python/hw2\n",
      "COMMIT_EDITMSG\n",
      "./.git/COMMIT_EDITMSG\n",
      "./.git/config\n",
      "./.git/description\n",
      "./.git/FETCH_HEAD\n",
      "./.git/HEAD\n",
      "./.git/index\n",
      "./.git/ORIG_HEAD\n",
      "./.git/packed-refs\n",
      "./.git/hooks\n",
      "/Users/erics/Documents/an_introduction_to_python/.git/hooks\n",
      "./.git/info\n",
      "/Users/erics/Documents/an_introduction_to_python/.git/info\n",
      "./.git/logs\n",
      "/Users/erics/Documents/an_introduction_to_python/.git/logs\n",
      "./.git/objects\n",
      "/Users/erics/Documents/an_introduction_to_python/.git/objects\n",
      "./.git/refs\n",
      "/Users/erics/Documents/an_introduction_to_python/.git/refs\n",
      "applypatch-msg.sample\n",
      "./.git/hooks/applypatch-msg.sample\n",
      "./.git/hooks/commit-msg.sample\n",
      "./.git/hooks/post-update.sample\n",
      "./.git/hooks/pre-applypatch.sample\n",
      "./.git/hooks/pre-commit.sample\n",
      "./.git/hooks/pre-push.sample\n",
      "./.git/hooks/pre-rebase.sample\n",
      "./.git/hooks/pre-receive.sample\n",
      "./.git/hooks/prepare-commit-msg.sample\n",
      "./.git/hooks/update.sample\n",
      "exclude\n",
      "./.git/info/exclude\n",
      "HEAD\n",
      "./.git/logs/HEAD\n",
      "./.git/logs/refs\n",
      "/Users/erics/Documents/an_introduction_to_python/.git/logs/refs\n"
     ]
    },
    {
     "ename": "IndexError",
     "evalue": "list index out of range",
     "output_type": "error",
     "traceback": [
      "\u001b[0;31m---------------------------------------------------------------------------\u001b[0m",
      "\u001b[0;31mIndexError\u001b[0m                                Traceback (most recent call last)",
      "\u001b[0;32m<ipython-input-3-bd23d5df092e>\u001b[0m in \u001b[0;36m<module>\u001b[0;34m()\u001b[0m\n\u001b[1;32m      3\u001b[0m \u001b[0;34m\u001b[0m\u001b[0m\n\u001b[1;32m      4\u001b[0m \u001b[0;32mfor\u001b[0m \u001b[0mroot\u001b[0m\u001b[0;34m,\u001b[0m \u001b[0mdirs\u001b[0m\u001b[0;34m,\u001b[0m \u001b[0mfiles\u001b[0m \u001b[0;32min\u001b[0m \u001b[0mos\u001b[0m\u001b[0;34m.\u001b[0m\u001b[0mwalk\u001b[0m\u001b[0;34m(\u001b[0m\u001b[0;34m\".\"\u001b[0m\u001b[0;34m)\u001b[0m\u001b[0;34m:\u001b[0m\u001b[0;34m\u001b[0m\u001b[0m\n\u001b[0;32m----> 5\u001b[0;31m     \u001b[0mprint\u001b[0m\u001b[0;34m(\u001b[0m\u001b[0mfiles\u001b[0m\u001b[0;34m[\u001b[0m\u001b[0;36m0\u001b[0m\u001b[0;34m]\u001b[0m\u001b[0;34m)\u001b[0m\u001b[0;34m\u001b[0m\u001b[0m\n\u001b[0m\u001b[1;32m      6\u001b[0m     \u001b[0;32mfor\u001b[0m \u001b[0mname\u001b[0m \u001b[0;32min\u001b[0m \u001b[0mfiles\u001b[0m\u001b[0;34m:\u001b[0m\u001b[0;34m\u001b[0m\u001b[0m\n\u001b[1;32m      7\u001b[0m         \u001b[0mprint\u001b[0m\u001b[0;34m(\u001b[0m\u001b[0mos\u001b[0m\u001b[0;34m.\u001b[0m\u001b[0mpath\u001b[0m\u001b[0;34m.\u001b[0m\u001b[0mjoin\u001b[0m\u001b[0;34m(\u001b[0m\u001b[0mroot\u001b[0m\u001b[0;34m,\u001b[0m \u001b[0mname\u001b[0m\u001b[0;34m)\u001b[0m\u001b[0;34m)\u001b[0m\u001b[0;34m\u001b[0m\u001b[0m\n",
      "\u001b[0;31mIndexError\u001b[0m: list index out of range"
     ]
    }
   ],
   "source": [
    "# different version\n",
    "import os\n",
    "\n",
    "for root, dirs, files in os.walk(\".\"):\n",
    "    for name in files:\n",
    "        print(os.path.join(root, name))\n",
    "    for name in dirs:\n",
    "        print(os.path.join(root, name))\n",
    "        rel_path = os.path.join(root, name)\n",
    "        print(os.path.abspath(rel_path))\n",
    "        #absolute path"
   ]
  },
  {
   "cell_type": "code",
   "execution_count": null,
   "metadata": {},
   "outputs": [],
   "source": []
  }
 ],
 "metadata": {
  "kernelspec": {
   "display_name": "Python 3",
   "language": "python",
   "name": "python3"
  },
  "language_info": {
   "codemirror_mode": {
    "name": "ipython",
    "version": 3
   },
   "file_extension": ".py",
   "mimetype": "text/x-python",
   "name": "python",
   "nbconvert_exporter": "python",
   "pygments_lexer": "ipython3",
   "version": "3.6.2"
  }
 },
 "nbformat": 4,
 "nbformat_minor": 2
}
