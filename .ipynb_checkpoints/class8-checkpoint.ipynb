{
 "cells": [
  {
   "cell_type": "markdown",
   "metadata": {},
   "source": [
    "# Matrices, Statistical Formulas\n",
    "\n",
    "## An Introduction to Matrices\n",
    "\n",
    "A matrix is a collection of formulas describing a single system.  Each formula will relate the same values, but in different ways.\n",
    "\n",
    "So:\n",
    "\n",
    "```\n",
    "1*x + -3*y\n",
    "5*x + 7*y\n",
    "```\n",
    "\n",
    "Translates to the following in Matrix Form:\n",
    "\n",
    "![Matrix](matrix.png \"Matrix\")"
   ]
  },
  {
   "cell_type": "markdown",
   "metadata": {},
   "source": [
    "```\n",
    "[[1, 2],\n",
    " [5, 6]]\n",
    "```\n",
    "\n",
    "^ this is a 2 x 2 matrix"
   ]
  },
  {
   "cell_type": "markdown",
   "metadata": {},
   "source": [
    "## Matrix Multiplication"
   ]
  },
  {
   "cell_type": "code",
   "execution_count": 4,
   "metadata": {},
   "outputs": [
    {
     "name": "stdout",
     "output_type": "stream",
     "text": [
      "[[5, 17], [17, 61]]\n"
     ]
    }
   ],
   "source": [
    "def pairwise_mult(vector_one, vector_two):\n",
    "    if len(vector_one) == len(vector_two):\n",
    "        new_vector = []\n",
    "        for index in range(len(vector_one)):\n",
    "            new_vector.append(vector_one[index] * vector_two[index])\n",
    "        return sum(new_vector)\n",
    "    else:\n",
    "        raise Exception(\"vector_one and vector_two must have the same number of elements!\")\n",
    "\n",
    "def cross_product(vect_one, vect_two):\n",
    "    matrix = []\n",
    "    for v1 in vect_one:\n",
    "        row = []\n",
    "        for v2 in vect_two:\n",
    "            row.append(pairwise_mult(v1, v2))\n",
    "        matrix.append(row)\n",
    "    return matrix\n",
    "\n",
    "matrix_one = [[1, 2], [5, 6]]\n",
    "matrix_two = [[1, 2], [5, 6]]\n",
    "print(cross_product(matrix_one, matrix_two))"
   ]
  },
  {
   "cell_type": "markdown",
   "metadata": {},
   "source": [
    "## Row Reduction"
   ]
  },
  {
   "cell_type": "code",
   "execution_count": null,
   "metadata": {},
   "outputs": [],
   "source": []
  },
  {
   "cell_type": "markdown",
   "metadata": {},
   "source": [
    "## Getting the Determinant"
   ]
  },
  {
   "cell_type": "code",
   "execution_count": 6,
   "metadata": {},
   "outputs": [
    {
     "data": {
      "text/plain": [
       "-0.25"
      ]
     },
     "execution_count": 6,
     "metadata": {},
     "output_type": "execute_result"
    }
   ],
   "source": [
    "def get_determinant(matrix):\n",
    "    return 1/(matrix[0][0]*matrix[1][1] - matrix[0][1] * matrix[1][0])\n",
    "\n",
    "matrix = [[1, 2], [5, 6]]\n",
    "get_determinant(matrix)"
   ]
  },
  {
   "cell_type": "markdown",
   "metadata": {},
   "source": [
    "## Spearman Correlation"
   ]
  },
  {
   "cell_type": "code",
   "execution_count": 7,
   "metadata": {},
   "outputs": [],
   "source": [
    "# http://www.statisticshowto.com/spearman-rank-correlation-definition-calculate/\n",
    "import math\n",
    "\n",
    "def mean(listing):\n",
    "    return sum(listing) / len(listing)\n",
    "\n",
    "def spearman(x, y):\n",
    "    # assume x, y are of the same length\n",
    "    # length means number of elements of list\n",
    "    ave_x = mean(x)\n",
    "    ave_y = mean(y)\n",
    "    numerator = 0\n",
    "    for i in range(len(x)):\n",
    "        numerator += (x[i] - ave_x) * (y[i] - ave_y)\n",
    "    numerator *= (1/len(x))\n",
    "    element_one = 0\n",
    "    for i in range(len(x)):\n",
    "        element_one += math.pow((x[i] - ave_x), 2)\n",
    "    element_one *= (1/len(x))\n",
    "    element_two = 0\n",
    "    for i in range(len(y)):\n",
    "        element_one += math.pow((y[i] - ave_y), 2)\n",
    "    element_two *= (1/len(y))\n",
    "    denominator = element_one * element_two\n",
    "    denominator = math.sqrt(denominator)\n",
    "    return numerator / denominator"
   ]
  },
  {
   "cell_type": "markdown",
   "metadata": {},
   "source": [
    "## Pearson Correlation"
   ]
  },
  {
   "cell_type": "code",
   "execution_count": null,
   "metadata": {},
   "outputs": [],
   "source": []
  },
  {
   "cell_type": "markdown",
   "metadata": {},
   "source": [
    "## Point Biserial Correlation"
   ]
  },
  {
   "cell_type": "code",
   "execution_count": null,
   "metadata": {},
   "outputs": [],
   "source": []
  },
  {
   "cell_type": "markdown",
   "metadata": {},
   "source": [
    "## Centers over Different Distributions"
   ]
  },
  {
   "cell_type": "code",
   "execution_count": null,
   "metadata": {},
   "outputs": [],
   "source": []
  },
  {
   "cell_type": "markdown",
   "metadata": {},
   "source": [
    "## Spreads over Different Distributions"
   ]
  },
  {
   "cell_type": "code",
   "execution_count": null,
   "metadata": {},
   "outputs": [],
   "source": []
  }
 ],
 "metadata": {
  "kernelspec": {
   "display_name": "Python 3",
   "language": "python",
   "name": "python3"
  },
  "language_info": {
   "codemirror_mode": {
    "name": "ipython",
    "version": 3
   },
   "file_extension": ".py",
   "mimetype": "text/x-python",
   "name": "python",
   "nbconvert_exporter": "python",
   "pygments_lexer": "ipython3",
   "version": "3.6.2"
  }
 },
 "nbformat": 4,
 "nbformat_minor": 2
}
